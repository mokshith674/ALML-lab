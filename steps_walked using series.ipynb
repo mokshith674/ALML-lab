{
 "cells": [
  {
   "cell_type": "code",
   "execution_count": 4,
   "id": "a24ffb41",
   "metadata": {},
   "outputs": [
    {
     "data": {
      "text/plain": [
       "array([[   1, 6012],\n",
       "       [   2, 7079],\n",
       "       [   3, 6886],\n",
       "       [   4, 7230],\n",
       "       [   5, 4598],\n",
       "       [   6, 5564],\n",
       "       [   7, 6971],\n",
       "       [   8, 7763],\n",
       "       [   9, 8032],\n",
       "       [  10, 9569]])"
      ]
     },
     "execution_count": 4,
     "metadata": {},
     "output_type": "execute_result"
    }
   ],
   "source": [
    "import numpy as np\n",
    "Day_number=np.arange(1,11)\n",
    "Steps_walked=[6012,7079,6886,7230,4598,5564,6971,7763,8032,9569]\n",
    "arr=np.array([Day_number,Steps_walked])\n",
    "arr=arr.T\n",
    "arr"
   ]
  },
  {
   "cell_type": "code",
   "execution_count": 2,
   "id": "509e007c",
   "metadata": {},
   "outputs": [
    {
     "data": {
      "text/plain": [
       "array([[    1,  8012],\n",
       "       [    2,  9079],\n",
       "       [    3,  8886],\n",
       "       [    4,  9230],\n",
       "       [    5,  6598],\n",
       "       [    6,  7564],\n",
       "       [    7,  8971],\n",
       "       [    8,  9763],\n",
       "       [    9, 10032],\n",
       "       [   10, 11569]])"
      ]
     },
     "execution_count": 2,
     "metadata": {},
     "output_type": "execute_result"
    }
   ],
   "source": [
    "new_arr=arr[:,1]+2000\n",
    "arr[:,1]=new_arr\n",
    "arr"
   ]
  },
  {
   "cell_type": "code",
   "execution_count": 3,
   "id": "863b79d7",
   "metadata": {},
   "outputs": [
    {
     "data": {
      "text/plain": [
       "array([[    2,  9079],\n",
       "       [    4,  9230],\n",
       "       [    8,  9763],\n",
       "       [    9, 10032],\n",
       "       [   10, 11569]])"
      ]
     },
     "execution_count": 3,
     "metadata": {},
     "output_type": "execute_result"
    }
   ],
   "source": [
    "matched=arr[:,1]>9000\n",
    "matched\n",
    "new_arr=arr[matched]\n",
    "new_arr"
   ]
  },
  {
   "cell_type": "code",
   "execution_count": null,
   "id": "30c26e35",
   "metadata": {},
   "outputs": [],
   "source": []
  }
 ],
 "metadata": {
  "kernelspec": {
   "display_name": "Python 3 (ipykernel)",
   "language": "python",
   "name": "python3"
  },
  "language_info": {
   "codemirror_mode": {
    "name": "ipython",
    "version": 3
   },
   "file_extension": ".py",
   "mimetype": "text/x-python",
   "name": "python",
   "nbconvert_exporter": "python",
   "pygments_lexer": "ipython3",
   "version": "3.11.3"
  }
 },
 "nbformat": 4,
 "nbformat_minor": 5
}
