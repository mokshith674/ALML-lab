{
 "cells": [
  {
   "cell_type": "code",
   "execution_count": 7,
   "id": "07ad3fb4",
   "metadata": {},
   "outputs": [
    {
     "name": "stdout",
     "output_type": "stream",
     "text": [
      "  Firstname lastname                Type      Department  Yoe  Salary\n",
      "0     aryan    singh  full-time employee  Administration    2    2000\n",
      "1     rohan  agrawal               intem       Technical    3    5000\n",
      "2      riya     shah  full-time employee  Administration    5  100000\n",
      "3      yash   bhakra  part-time employee       technical    7   10000\n",
      "4   siddini  krishna  full-time employee      management    6   20000\n"
     ]
    }
   ],
   "source": [
    "import pandas as pd\n",
    "data={\n",
    "    'Firstname':['aryan','rohan','riya','yash','siddini'],\n",
    "    'lastname':['singh','agrawal','shah','bhakra','krishna'],\n",
    "    'Type':['full-time employee','intem','full-time employee','part-time employee','full-time employee'],\n",
    "    'Department':['Administration','Technical','Administration','technical','management'],\n",
    "    'Yoe':[2,3,5,7,6],\n",
    "    'Salary':[2000,5000,100000,10000,20000]\n",
    "    }\n",
    "df=pd.DataFrame(data)\n",
    "print(df)"
   ]
  },
  {
   "cell_type": "code",
   "execution_count": null,
   "id": "1cb6932f",
   "metadata": {},
   "outputs": [],
   "source": []
  },
  {
   "cell_type": "code",
   "execution_count": null,
   "id": "2929d73c",
   "metadata": {},
   "outputs": [],
   "source": []
  }
 ],
 "metadata": {
  "kernelspec": {
   "display_name": "Python 3 (ipykernel)",
   "language": "python",
   "name": "python3"
  },
  "language_info": {
   "codemirror_mode": {
    "name": "ipython",
    "version": 3
   },
   "file_extension": ".py",
   "mimetype": "text/x-python",
   "name": "python",
   "nbconvert_exporter": "python",
   "pygments_lexer": "ipython3",
   "version": "3.11.3"
  }
 },
 "nbformat": 4,
 "nbformat_minor": 5
}
