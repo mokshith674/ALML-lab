{
 "cells": [
  {
   "cell_type": "code",
   "execution_count": 1,
   "id": "0a6424e8",
   "metadata": {},
   "outputs": [
    {
     "name": "stdout",
     "output_type": "stream",
     "text": [
      "   day_number  Steps_walked\n",
      "0           1          4385\n",
      "1           2          9552\n",
      "2           3          7332\n",
      "3           4          4504\n",
      "4           5          5335\n",
      "5           6          7552\n",
      "6           7          8332\n",
      "7           8          6504\n",
      "8           9          5002\n",
      "9          10          7079\n"
     ]
    }
   ],
   "source": [
    "import pandas as pd\n",
    "arr={\n",
    "    'day_number':[1,2,3,4,5,6,7,8,9,10],\n",
    "    'Steps_walked':[4385,9552,7332,4504,5335,7552,8332,6504,5002,7079]\n",
    "    }\n",
    "df=pd.DataFrame(arr)\n",
    "print(df)"
   ]
  },
  {
   "cell_type": "code",
   "execution_count": 2,
   "id": "0aae558b",
   "metadata": {},
   "outputs": [
    {
     "name": "stdout",
     "output_type": "stream",
     "text": [
      "0     6385\n",
      "1    11552\n",
      "2     9332\n",
      "3     6504\n",
      "4     7335\n",
      "5     9552\n",
      "6    10332\n",
      "7     8504\n",
      "8     7002\n",
      "9     9079\n",
      "Name: Steps_walked, dtype: int64\n"
     ]
    }
   ],
   "source": [
    "arr['Steps_walked']=df['Steps_walked']+2000\n",
    "print(arr['Steps_walked'])"
   ]
  },
  {
   "cell_type": "code",
   "execution_count": 3,
   "id": "ee946fe0",
   "metadata": {},
   "outputs": [
    {
     "name": "stdout",
     "output_type": "stream",
     "text": [
      "   day_number  Steps_walked\n",
      "1           2          9552\n"
     ]
    }
   ],
   "source": [
    "matched=df.loc[df['Steps_walked']>9000]\n",
    "print(matched)"
   ]
  }
 ],
 "metadata": {
  "kernelspec": {
   "display_name": "Python 3 (ipykernel)",
   "language": "python",
   "name": "python3"
  },
  "language_info": {
   "codemirror_mode": {
    "name": "ipython",
    "version": 3
   },
   "file_extension": ".py",
   "mimetype": "text/x-python",
   "name": "python",
   "nbconvert_exporter": "python",
   "pygments_lexer": "ipython3",
   "version": "3.11.3"
  }
 },
 "nbformat": 4,
 "nbformat_minor": 5
}
