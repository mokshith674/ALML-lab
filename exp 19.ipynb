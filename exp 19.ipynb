{
 "cells": [
  {
   "cell_type": "code",
   "execution_count": 1,
   "id": "bd844128",
   "metadata": {},
   "outputs": [
    {
     "name": "stdout",
     "output_type": "stream",
     "text": [
      "   day_number  Steps_walked\n",
      "0           1          6012\n",
      "1           2          7079\n",
      "2           3          6886\n",
      "3           4          7230\n",
      "4           5          4598\n",
      "5           6          5564\n",
      "6           7          6971\n",
      "7           8          7763\n",
      "8           9          8032\n",
      "9          10          9569\n"
     ]
    }
   ],
   "source": [
    "import pandas as pd\n",
    "arr={\n",
    "    'day_number':[1,2,3,4,5,6,7,8,9,10],\n",
    "    'Steps_walked':[6012,7079,6886,7230,4598,5564,6971,7763,8032,9569]\n",
    "    }\n",
    "df=pd.DataFrame(arr)\n",
    "print(df)"
   ]
  },
  {
   "cell_type": "code",
   "execution_count": 2,
   "id": "6a9c7a97",
   "metadata": {},
   "outputs": [
    {
     "name": "stdout",
     "output_type": "stream",
     "text": [
      "0     8012\n",
      "1     9079\n",
      "2     8886\n",
      "3     9230\n",
      "4     6598\n",
      "5     7564\n",
      "6     8971\n",
      "7     9763\n",
      "8    10032\n",
      "9    11569\n",
      "Name: Steps_walked, dtype: int64\n"
     ]
    }
   ],
   "source": [
    "arr['Steps_walked']=df['Steps_walked']+2000\n",
    "print(arr['Steps_walked'])"
   ]
  },
  {
   "cell_type": "code",
   "execution_count": 3,
   "id": "03a217c4",
   "metadata": {},
   "outputs": [
    {
     "name": "stdout",
     "output_type": "stream",
     "text": [
      "   day_number  Steps_walked\n",
      "9          10          9569\n"
     ]
    }
   ],
   "source": [
    "matched=df.loc[df['Steps_walked']>9000]\n",
    "print(matched)"
   ]
  },
  {
   "cell_type": "code",
   "execution_count": null,
   "id": "0c32167f",
   "metadata": {},
   "outputs": [],
   "source": []
  }
 ],
 "metadata": {
  "kernelspec": {
   "display_name": "Python 3 (ipykernel)",
   "language": "python",
   "name": "python3"
  },
  "language_info": {
   "codemirror_mode": {
    "name": "ipython",
    "version": 3
   },
   "file_extension": ".py",
   "mimetype": "text/x-python",
   "name": "python",
   "nbconvert_exporter": "python",
   "pygments_lexer": "ipython3",
   "version": "3.11.3"
  }
 },
 "nbformat": 4,
 "nbformat_minor": 5
}
