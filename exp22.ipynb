{
 "cells": [
  {
   "cell_type": "code",
   "execution_count": 30,
   "id": "dcb900a9",
   "metadata": {},
   "outputs": [
    {
     "name": "stdout",
     "output_type": "stream",
     "text": [
      "  courses    Fee Duration  Discount\n",
      "0  python  20000   30days      1000\n",
      "1    DBMs  25000   40days      2300\n",
      "2    Java  26000   35days      1200\n",
      "3  python  22000   60days      2500\n",
      "4   AL/ML  24000   30days      2000\n"
     ]
    }
   ],
   "source": [
    "import pandas as pd \n",
    "technologies={\n",
    "    'courses':['python','DBMs','Java','python','AL/ML'],\n",
    "    'Fee':[20000,25000,26000,22000,24000],\n",
    "    'Duration':['30days','40days','35days','60days','30days'],\n",
    "    'Discount':[1000,2300,1200,2500,2000]\n",
    "    }\n",
    "df=pd.DataFrame(technologies)\n",
    "print(df)"
   ]
  },
  {
   "cell_type": "markdown",
   "id": "c72dba9d",
   "metadata": {},
   "source": [
    "Using group by functions in dataframe to find first and last element in a group "
   ]
  },
  {
   "cell_type": "code",
   "execution_count": 31,
   "id": "2e3265f7",
   "metadata": {},
   "outputs": [
    {
     "data": {
      "text/html": [
       "<div>\n",
       "<style scoped>\n",
       "    .dataframe tbody tr th:only-of-type {\n",
       "        vertical-align: middle;\n",
       "    }\n",
       "\n",
       "    .dataframe tbody tr th {\n",
       "        vertical-align: top;\n",
       "    }\n",
       "\n",
       "    .dataframe thead tr th {\n",
       "        text-align: left;\n",
       "    }\n",
       "\n",
       "    .dataframe thead tr:last-of-type th {\n",
       "        text-align: right;\n",
       "    }\n",
       "</style>\n",
       "<table border=\"1\" class=\"dataframe\">\n",
       "  <thead>\n",
       "    <tr>\n",
       "      <th></th>\n",
       "      <th>Duration</th>\n",
       "      <th colspan=\"2\" halign=\"left\">Fee</th>\n",
       "    </tr>\n",
       "    <tr>\n",
       "      <th></th>\n",
       "      <th>count</th>\n",
       "      <th>first</th>\n",
       "      <th>last</th>\n",
       "    </tr>\n",
       "    <tr>\n",
       "      <th>courses</th>\n",
       "      <th></th>\n",
       "      <th></th>\n",
       "      <th></th>\n",
       "    </tr>\n",
       "  </thead>\n",
       "  <tbody>\n",
       "    <tr>\n",
       "      <th>AL/ML</th>\n",
       "      <td>1</td>\n",
       "      <td>24000</td>\n",
       "      <td>24000</td>\n",
       "    </tr>\n",
       "    <tr>\n",
       "      <th>DBMs</th>\n",
       "      <td>1</td>\n",
       "      <td>25000</td>\n",
       "      <td>25000</td>\n",
       "    </tr>\n",
       "    <tr>\n",
       "      <th>Java</th>\n",
       "      <td>1</td>\n",
       "      <td>26000</td>\n",
       "      <td>26000</td>\n",
       "    </tr>\n",
       "    <tr>\n",
       "      <th>python</th>\n",
       "      <td>2</td>\n",
       "      <td>20000</td>\n",
       "      <td>22000</td>\n",
       "    </tr>\n",
       "  </tbody>\n",
       "</table>\n",
       "</div>"
      ],
      "text/plain": [
       "        Duration    Fee       \n",
       "           count  first   last\n",
       "courses                       \n",
       "AL/ML          1  24000  24000\n",
       "DBMs           1  25000  25000\n",
       "Java           1  26000  26000\n",
       "python         2  20000  22000"
      ]
     },
     "execution_count": 31,
     "metadata": {},
     "output_type": "execute_result"
    }
   ],
   "source": [
    "df.groupby('courses').agg({'Duration':'count','Fee':['first','last']})"
   ]
  },
  {
   "cell_type": "markdown",
   "id": "1702c4e9",
   "metadata": {},
   "source": [
    "using groupby function to dataframe to get count "
   ]
  },
  {
   "cell_type": "code",
   "execution_count": 32,
   "id": "d6672512",
   "metadata": {},
   "outputs": [
    {
     "data": {
      "text/html": [
       "<div>\n",
       "<style scoped>\n",
       "    .dataframe tbody tr th:only-of-type {\n",
       "        vertical-align: middle;\n",
       "    }\n",
       "\n",
       "    .dataframe tbody tr th {\n",
       "        vertical-align: top;\n",
       "    }\n",
       "\n",
       "    .dataframe thead th {\n",
       "        text-align: right;\n",
       "    }\n",
       "</style>\n",
       "<table border=\"1\" class=\"dataframe\">\n",
       "  <thead>\n",
       "    <tr style=\"text-align: right;\">\n",
       "      <th></th>\n",
       "      <th>Fee</th>\n",
       "    </tr>\n",
       "    <tr>\n",
       "      <th>courses</th>\n",
       "      <th></th>\n",
       "    </tr>\n",
       "  </thead>\n",
       "  <tbody>\n",
       "    <tr>\n",
       "      <th>AL/ML</th>\n",
       "      <td>1</td>\n",
       "    </tr>\n",
       "    <tr>\n",
       "      <th>DBMs</th>\n",
       "      <td>1</td>\n",
       "    </tr>\n",
       "    <tr>\n",
       "      <th>Java</th>\n",
       "      <td>1</td>\n",
       "    </tr>\n",
       "    <tr>\n",
       "      <th>python</th>\n",
       "      <td>2</td>\n",
       "    </tr>\n",
       "  </tbody>\n",
       "</table>\n",
       "</div>"
      ],
      "text/plain": [
       "         Fee\n",
       "courses     \n",
       "AL/ML      1\n",
       "DBMs       1\n",
       "Java       1\n",
       "python     2"
      ]
     },
     "execution_count": 32,
     "metadata": {},
     "output_type": "execute_result"
    }
   ],
   "source": [
    "df.groupby('courses').agg({'Fee':'count'})"
   ]
  },
  {
   "cell_type": "code",
   "execution_count": null,
   "id": "05db0ffa",
   "metadata": {},
   "outputs": [],
   "source": []
  }
 ],
 "metadata": {
  "kernelspec": {
   "display_name": "Python 3 (ipykernel)",
   "language": "python",
   "name": "python3"
  },
  "language_info": {
   "codemirror_mode": {
    "name": "ipython",
    "version": 3
   },
   "file_extension": ".py",
   "mimetype": "text/x-python",
   "name": "python",
   "nbconvert_exporter": "python",
   "pygments_lexer": "ipython3",
   "version": "3.11.3"
  }
 },
 "nbformat": 4,
 "nbformat_minor": 5
}
