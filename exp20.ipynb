{
 "cells": [
  {
   "cell_type": "code",
   "execution_count": 5,
   "id": "a78d455d",
   "metadata": {},
   "outputs": [
    {
     "name": "stdout",
     "output_type": "stream",
     "text": [
      "  subject  amount\n",
      "0  python   10000\n",
      "1    java    2000\n",
      "\n",
      " map operartion to multiple amount by 2\n",
      "\n",
      "  subject  amount\n",
      "0  python   20000\n",
      "1    java    4000\n",
      "\n",
      "\n",
      "\n",
      " opeartion of filter to display only subject column\n",
      "\n",
      "  subject\n",
      "0  python\n",
      "1    java\n",
      "\n",
      " reduce operartion to find total amount \n",
      "\n"
     ]
    },
    {
     "data": {
      "text/plain": [
       "24000"
      ]
     },
     "execution_count": 5,
     "metadata": {},
     "output_type": "execute_result"
    }
   ],
   "source": [
    "import pandas as pd\n",
    "from operator import add\n",
    "from functools import reduce\n",
    "coding={\n",
    "    'subject':['python','java'],'amount':[10000,2000]\n",
    "    }\n",
    "df=pd.DataFrame(coding)\n",
    "print(df)\n",
    "print(\"\\n map operartion to multiple amount by 2\\n\")\n",
    "df['amount']=df['amount'].map(lambda x:x*2)\n",
    "print(df)\n",
    "print(\"\\n\")\n",
    "print(\"\\n opeartion of filter to display only subject column\\n\" )\n",
    "df2=df.filter(items=['subject'])\n",
    "print(df2)\n",
    "print(\"\\n reduce operartion to find total amount \\n\")\n",
    "reduce(add,df.amount)\n",
    "\n",
    "\n",
    "\n"
   ]
  },
  {
   "cell_type": "code",
   "execution_count": null,
   "id": "84b1e1bf",
   "metadata": {},
   "outputs": [],
   "source": []
  }
 ],
 "metadata": {
  "kernelspec": {
   "display_name": "Python 3 (ipykernel)",
   "language": "python",
   "name": "python3"
  },
  "language_info": {
   "codemirror_mode": {
    "name": "ipython",
    "version": 3
   },
   "file_extension": ".py",
   "mimetype": "text/x-python",
   "name": "python",
   "nbconvert_exporter": "python",
   "pygments_lexer": "ipython3",
   "version": "3.11.3"
  }
 },
 "nbformat": 4,
 "nbformat_minor": 5
}
